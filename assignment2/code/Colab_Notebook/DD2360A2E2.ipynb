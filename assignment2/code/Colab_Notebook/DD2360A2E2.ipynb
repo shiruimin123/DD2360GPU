{
  "cells": [
    {
      "cell_type": "code",
      "execution_count": 1,
      "metadata": {
        "colab": {
          "base_uri": "https://localhost:8080/"
        },
        "id": "1sMvTQpdgNTh",
        "outputId": "4643acfe-2d07-41e8-97a1-92ac309982a4"
      },
      "outputs": [
        {
          "output_type": "stream",
          "name": "stdout",
          "text": [
            "Mounted at /content/drive\n"
          ]
        }
      ],
      "source": [
        "from google.colab import drive\n",
        "drive.mount('/content/drive')"
      ]
    },
    {
      "cell_type": "code",
      "execution_count": 2,
      "metadata": {
        "colab": {
          "base_uri": "https://localhost:8080/"
        },
        "id": "7pqN3gfhgYNu",
        "outputId": "1f54f717-321a-4b48-8b1e-89a5f96618cf"
      },
      "outputs": [
        {
          "output_type": "stream",
          "name": "stdout",
          "text": [
            "/content/drive/MyDrive/DD2360\n"
          ]
        }
      ],
      "source": [
        "cd ./drive/MyDrive/DD2360/"
      ]
    },
    {
      "cell_type": "code",
      "execution_count": 3,
      "metadata": {
        "id": "hS8iVe-iga_u"
      },
      "outputs": [],
      "source": [
        "!nvcc -arch=sm_75 lab2exercise2.cu -o exercise2.out"
      ]
    },
    {
      "cell_type": "code",
      "execution_count": 8,
      "metadata": {
        "colab": {
          "base_uri": "https://localhost:8080/"
        },
        "id": "NqZasmSSP8hl",
        "outputId": "c7a40a55-4b01-491d-c284-80d41947a591"
      },
      "outputs": [
        {
          "output_type": "stream",
          "name": "stdout",
          "text": [
            "Input matrix dim (2 x 3) (3 x 4) (2 x 4)\n",
            "Kernel Execution Time: 0.000039 seconds\n",
            "Results match!\n"
          ]
        }
      ],
      "source": [
        "!./exercise2.out 2 3 3 4"
      ]
    }
  ],
  "metadata": {
    "colab": {
      "provenance": [],
      "gpuType": "T4"
    },
    "kernelspec": {
      "display_name": "Python 3",
      "name": "python3"
    },
    "language_info": {
      "name": "python"
    },
    "accelerator": "GPU"
  },
  "nbformat": 4,
  "nbformat_minor": 0
}